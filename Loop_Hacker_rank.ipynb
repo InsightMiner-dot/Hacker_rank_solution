{
  "nbformat": 4,
  "nbformat_minor": 0,
  "metadata": {
    "colab": {
      "provenance": [],
      "authorship_tag": "ABX9TyMaWzp41Arxhom37CAuuifp",
      "include_colab_link": true
    },
    "kernelspec": {
      "name": "python3",
      "display_name": "Python 3"
    },
    "language_info": {
      "name": "python"
    }
  },
  "cells": [
    {
      "cell_type": "markdown",
      "metadata": {
        "id": "view-in-github",
        "colab_type": "text"
      },
      "source": [
        "<a href=\"https://colab.research.google.com/github/ankan92/Hacker_rank_solution/blob/main/Loop_Hacker_rank.ipynb\" target=\"_parent\"><img src=\"https://colab.research.google.com/assets/colab-badge.svg\" alt=\"Open In Colab\"/></a>"
      ]
    },
    {
      "cell_type": "markdown",
      "source": [
        "## Task\n",
        "The provided code stub reads and integer, n, from STDIN. For all non-negative integers i < n, print i**2.\n",
        "\n",
        "**Example**\n",
        "\n",
        "The list of non-negative integers that are less than n = 3 is [0,1,2] . Print the square of each number on a separate line.\n",
        "\n",
        "0\n",
        "\n",
        "1\n",
        "\n",
        "4\n",
        "\n",
        "**Input Format**\n",
        "\n",
        "The first and only line contains the integer,n .\n",
        "\n",
        "**Constraints:**\n",
        "\n",
        "1 <= n <= 20\n",
        "\n",
        "Output Format\n",
        "\n",
        "Print n lines, one corresponding to each i.\n",
        "\n",
        "**Sample Input 0**\n",
        "\n",
        "5\n",
        "\n",
        "**Sample Output 0**\n",
        "\n",
        "0\n",
        "\n",
        "1\n",
        "\n",
        "4\n",
        "\n",
        "9\n",
        "\n",
        "16\n"
      ],
      "metadata": {
        "id": "lY3B0AJRwfNV"
      }
    },
    {
      "cell_type": "code",
      "execution_count": 3,
      "metadata": {
        "colab": {
          "base_uri": "https://localhost:8080/"
        },
        "id": "eKcrHpPVwXk8",
        "outputId": "e49103cf-7c48-45ef-f551-13490b89a365"
      },
      "outputs": [
        {
          "output_type": "stream",
          "name": "stdout",
          "text": [
            "5\n",
            "0\n",
            "1\n",
            "4\n",
            "9\n",
            "16\n"
          ]
        }
      ],
      "source": [
        "#if __name__ = '__main__':\n",
        "n = int(input())\n",
        "i = 5\n",
        "\n",
        "for i in range (n):\n",
        "  print(i**2)"
      ]
    },
    {
      "cell_type": "markdown",
      "source": [],
      "metadata": {
        "id": "PC8XigOAwefk"
      }
    }
  ]
}